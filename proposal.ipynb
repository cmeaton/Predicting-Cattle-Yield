{
 "cells": [
  {
   "cell_type": "markdown",
   "metadata": {},
   "source": [
    "*Project Luther: Web scraping and linear regression*\n",
    "\n",
    "\n",
    "# Predicting annual cattle production.\n",
    "\n",
    "**Connor Eaton**\n",
    "\n",
    "    \n",
    "## Scope:\n",
    "Beef cattle is one of the most valuable agricultural commodities traded on a global scale. As it is such a crucial component of local and global economies, being able to predict annual production would be very helpful for variety of stakeholders, from producers, policy makers, and all the way to commodity traders.\n",
    "\n",
    "## Prediction: \n",
    "* My model will be predicting annual cattle production.\n",
    "    \n",
    "## Data:\n",
    "* Weather data will be scraped from here: http://sdwebx.worldbank.org/climateportal/index.cfm?page=downscaled_data_download&menu=historical\n",
    "* Cattle production by country/year will be downloaded from here: http://www.fao.org/faostat/en/#data/QV\n",
    "        \n",
    "## Features:\n",
    "        \n",
    "| **Feature**       | **Description **         \n",
    "|:-------------:|:-------------:                                                             | \n",
    "| harvest_num (y)          | Total number of harvest animals                             |\n",
    "| country   | Country   |               |\n",
    "| cattle_head           | Total number of living cattle               |\n",
    "| hg/an           | Mean total weight (hectogram/animal    |\n",
    "| corn_area_ha         | Total hectares of corn  |\n",
    "| corn_hg/ha           | Total yield of corn (hg/ha)                                                                        |\n",
    "| soy_area_ha      | Total hectares of soy                                     |\n",
    "| soy_hg/ha       | Total yield of soy (hg/ha)                                                     |\n",
    "| rural_pop_10^3          | Rural population (1000)                                             |\n",
    "| urban_pop_10^3          | Urban population (1000)                                             |\n",
    "| prec          | annual rainfall                                          |"
   ]
  },
  {
   "cell_type": "code",
   "execution_count": null,
   "metadata": {},
   "outputs": [],
   "source": []
  }
 ],
 "metadata": {
  "kernelspec": {
   "display_name": "Python 3",
   "language": "python",
   "name": "python3"
  },
  "language_info": {
   "codemirror_mode": {
    "name": "ipython",
    "version": 3
   },
   "file_extension": ".py",
   "mimetype": "text/x-python",
   "name": "python",
   "nbconvert_exporter": "python",
   "pygments_lexer": "ipython3",
   "version": "3.6.4"
  }
 },
 "nbformat": 4,
 "nbformat_minor": 2
}
